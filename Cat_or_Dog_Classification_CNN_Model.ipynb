{
  "nbformat": 4,
  "nbformat_minor": 0,
  "metadata": {
    "colab": {
      "provenance": [],
      "authorship_tag": "ABX9TyPp4iKTE/Nr00eaN1dWuv80",
      "include_colab_link": true
    },
    "kernelspec": {
      "name": "python3",
      "display_name": "Python 3"
    },
    "language_info": {
      "name": "python"
    }
  },
  "cells": [
    {
      "cell_type": "markdown",
      "metadata": {
        "id": "view-in-github",
        "colab_type": "text"
      },
      "source": [
        "<a href=\"https://colab.research.google.com/github/Akita20/Practice/blob/master/Cat_or_Dog_Classification_CNN_Model.ipynb\" target=\"_parent\"><img src=\"https://colab.research.google.com/assets/colab-badge.svg\" alt=\"Open In Colab\"/></a>"
      ]
    },
    {
      "cell_type": "markdown",
      "source": [
        "Problem Starement : Build an image classification Model to identify Cat or Dog\n",
        "\n",
        "\n",
        "\n"
      ],
      "metadata": {
        "id": "pS_2Xr72kK2e"
      }
    },
    {
      "cell_type": "code",
      "source": [
        "#Loading Data set"
      ],
      "metadata": {
        "id": "ppkwTPLikAdv"
      },
      "execution_count": null,
      "outputs": []
    },
    {
      "cell_type": "markdown",
      "source": [],
      "metadata": {
        "id": "MGEWDt30kiGK"
      }
    },
    {
      "cell_type": "code",
      "source": [
        "!git clone https://github.com/alokproc/Dog-or-Cat-Prediction-using-CNN-Model"
      ],
      "metadata": {
        "colab": {
          "base_uri": "https://localhost:8080/"
        },
        "id": "gv1aMy6qkAv9",
        "outputId": "59a96116-9274-4d51-a308-23e4ebfa0b1f"
      },
      "execution_count": 30,
      "outputs": [
        {
          "output_type": "stream",
          "name": "stdout",
          "text": [
            "Cloning into 'Dog-or-Cat-Prediction-using-CNN-Model'...\n",
            "remote: Enumerating objects: 10024, done.\u001b[K\n",
            "remote: Counting objects:  16% (1/6)\u001b[K\rremote: Counting objects:  33% (2/6)\u001b[K\rremote: Counting objects:  50% (3/6)\u001b[K\rremote: Counting objects:  66% (4/6)\u001b[K\rremote: Counting objects:  83% (5/6)\u001b[K\rremote: Counting objects: 100% (6/6)\u001b[K\rremote: Counting objects: 100% (6/6), done.\u001b[K\n",
            "remote: Compressing objects: 100% (6/6), done.\u001b[K\n",
            "remote: Total 10024 (delta 1), reused 1 (delta 0), pack-reused 10018\u001b[K\n",
            "Receiving objects: 100% (10024/10024), 216.40 MiB | 35.05 MiB/s, done.\n",
            "Resolving deltas: 100% (4/4), done.\n",
            "Updating files: 100% (10008/10008), done.\n"
          ]
        }
      ]
    },
    {
      "cell_type": "markdown",
      "source": [],
      "metadata": {
        "id": "Gh7uZV1emMyI"
      }
    },
    {
      "cell_type": "code",
      "source": [],
      "metadata": {
        "id": "lMXXN8KAmQ-d"
      },
      "execution_count": null,
      "outputs": []
    },
    {
      "cell_type": "markdown",
      "source": [
        "# Importing Library"
      ],
      "metadata": {
        "id": "T4OKj8HUmXoH"
      }
    },
    {
      "cell_type": "code",
      "source": [
        "# Importing library\n",
        "import tensorflow as tf\n",
        "from tensorflow.keras.preprocessing.image import ImageDataGenerator\n",
        "from PIL import Image\n",
        "import numpy as np\n",
        "import matplotlib.pyplot as plt\n"
      ],
      "metadata": {
        "id": "NyULAok1miOD"
      },
      "execution_count": 43,
      "outputs": []
    },
    {
      "cell_type": "code",
      "source": [
        "tf.__version__"
      ],
      "metadata": {
        "colab": {
          "base_uri": "https://localhost:8080/",
          "height": 35
        },
        "id": "MLQ8tnBKm9pr",
        "outputId": "74bcc766-05e1-40ff-a197-2af7ec683b8a"
      },
      "execution_count": 27,
      "outputs": [
        {
          "output_type": "execute_result",
          "data": {
            "text/plain": [
              "'2.15.0'"
            ],
            "application/vnd.google.colaboratory.intrinsic+json": {
              "type": "string"
            }
          },
          "metadata": {},
          "execution_count": 27
        }
      ]
    },
    {
      "cell_type": "code",
      "source": [
        "# Data preprocessing\n",
        "train_datagen = ImageDataGenerator(rescale = 1./255,\n",
        "                                   shear_range= 0.2,\n",
        "                                   zoom_range= 0.2,\n",
        "                                   horizontal_flip= True)"
      ],
      "metadata": {
        "id": "rzXNa4whnCmm"
      },
      "execution_count": 44,
      "outputs": []
    },
    {
      "cell_type": "code",
      "source": [
        "training_set = train_datagen.flow_from_directory('/content/Dog-or-Cat-Prediction-using-CNN-Model/dataset/training_set',\n",
        "                                                 target_size= (64,64),\n",
        "                                                 batch_size= 32,\n",
        "                                                 class_mode='binary')"
      ],
      "metadata": {
        "colab": {
          "base_uri": "https://localhost:8080/"
        },
        "id": "-jwyqu6Qne3o",
        "outputId": "5c190de0-ae14-43ad-beb3-129f41d1622b"
      },
      "execution_count": 45,
      "outputs": [
        {
          "output_type": "stream",
          "name": "stdout",
          "text": [
            "Found 8000 images belonging to 2 classes.\n"
          ]
        }
      ]
    },
    {
      "cell_type": "code",
      "source": [
        "test_datagen= ImageDataGenerator(rescale= 1./255)\n",
        "test_set = test_datagen.flow_from_directory('/content/Dog-or-Cat-Prediction-using-CNN-Model/dataset/test_set',\n",
        "                                            target_size= (64,64),\n",
        "                                            batch_size=32,\n",
        "                                            class_mode='binary')"
      ],
      "metadata": {
        "colab": {
          "base_uri": "https://localhost:8080/"
        },
        "id": "0b5q3oa8rsVB",
        "outputId": "120f5849-aa8a-4318-be2c-cbaf0046d16a"
      },
      "execution_count": 46,
      "outputs": [
        {
          "output_type": "stream",
          "name": "stdout",
          "text": [
            "Found 2000 images belonging to 2 classes.\n"
          ]
        }
      ]
    },
    {
      "cell_type": "code",
      "source": [
        "# Model\n",
        "# Convolution\n",
        "# Pooling\n",
        "# Flattening\n",
        "# Full Connection\n",
        "# Compiling\n"
      ],
      "metadata": {
        "id": "LUNNenZ7syQH"
      },
      "execution_count": 36,
      "outputs": []
    },
    {
      "cell_type": "code",
      "source": [
        "model = tf.keras.models.Sequential()"
      ],
      "metadata": {
        "id": "6x_cEetXtFap"
      },
      "execution_count": 48,
      "outputs": []
    },
    {
      "cell_type": "code",
      "source": [
        "\n",
        "# Convolution Layer\n",
        "model.add(tf.keras.layers.Conv2D(filters = 32,kernel_size=3,activation='relu', input_shape =[64,64,3]))"
      ],
      "metadata": {
        "id": "qEAHPmvbtMly"
      },
      "execution_count": 50,
      "outputs": []
    },
    {
      "cell_type": "code",
      "source": [
        "# Pooling Layer\n",
        "model.add(tf.keras.layers.MaxPool2D(pool_size=2, strides=1))"
      ],
      "metadata": {
        "id": "qCJvpZxJtM30"
      },
      "execution_count": null,
      "outputs": []
    },
    {
      "cell_type": "code",
      "source": [],
      "metadata": {
        "id": "LzVobcRptNJK"
      },
      "execution_count": null,
      "outputs": []
    },
    {
      "cell_type": "code",
      "source": [],
      "metadata": {
        "id": "2RoG-V00tNXw"
      },
      "execution_count": null,
      "outputs": []
    }
  ]
}