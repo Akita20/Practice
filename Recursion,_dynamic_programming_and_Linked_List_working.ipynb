{
  "nbformat": 4,
  "nbformat_minor": 0,
  "metadata": {
    "colab": {
      "provenance": [],
      "authorship_tag": "ABX9TyOM8RYdXdua9zl8MZ2Ol7en",
      "include_colab_link": true
    },
    "kernelspec": {
      "name": "python3",
      "display_name": "Python 3"
    },
    "language_info": {
      "name": "python"
    }
  },
  "cells": [
    {
      "cell_type": "markdown",
      "metadata": {
        "id": "view-in-github",
        "colab_type": "text"
      },
      "source": [
        "<a href=\"https://colab.research.google.com/github/Akita20/Practice/blob/master/Recursion%2C_dynamic_programming_and_Linked_List_working.ipynb\" target=\"_parent\"><img src=\"https://colab.research.google.com/assets/colab-badge.svg\" alt=\"Open In Colab\"/></a>"
      ]
    },
    {
      "cell_type": "code",
      "execution_count": 1,
      "metadata": {
        "id": "cREeev3UHPte"
      },
      "outputs": [],
      "source": [
        "from typing import List\n",
        "from collections import Counter, defaultdict"
      ]
    },
    {
      "cell_type": "code",
      "source": [
        "# 5!= 5 x 4 x 3 x 2 x1 =120\n",
        "# 0! =1"
      ],
      "metadata": {
        "id": "8F83k6YZH0HV"
      },
      "execution_count": 5,
      "outputs": []
    },
    {
      "cell_type": "code",
      "source": [
        "# Calculate factorial using recursion\n",
        "\n",
        "def factorial(n):\n",
        "  if n ==0:\n",
        "    return 1\n",
        "  else:\n",
        "    return n * factorial(n-1)\n",
        ""
      ],
      "metadata": {
        "id": "id03tOzOHj-x"
      },
      "execution_count": 2,
      "outputs": []
    },
    {
      "cell_type": "code",
      "source": [
        "factorial(6)"
      ],
      "metadata": {
        "colab": {
          "base_uri": "https://localhost:8080/"
        },
        "id": "9h5SNDzwIUQe",
        "outputId": "48bbc968-b825-4dfd-8e71-0adf6aa4efe1"
      },
      "execution_count": 7,
      "outputs": [
        {
          "output_type": "execute_result",
          "data": {
            "text/plain": [
              "720"
            ]
          },
          "metadata": {},
          "execution_count": 7
        }
      ]
    },
    {
      "cell_type": "code",
      "source": [
        "s = ['h','e','l','l','o']\n",
        "\n",
        "def reverse_string_recursive(s):\n",
        "  if len(s) == 0:\n",
        "    return []\n",
        "  else:\n",
        "    return [s[-1]] + reverse_string_recursive(s[:-1])"
      ],
      "metadata": {
        "id": "O2V2wDdBJDnn"
      },
      "execution_count": 10,
      "outputs": []
    },
    {
      "cell_type": "code",
      "source": [
        "reverse_string_recursive(s)"
      ],
      "metadata": {
        "colab": {
          "base_uri": "https://localhost:8080/"
        },
        "id": "ANUIcT9yJrdr",
        "outputId": "5ee462ba-9b95-480f-9aed-a2eef4092369"
      },
      "execution_count": 11,
      "outputs": [
        {
          "output_type": "execute_result",
          "data": {
            "text/plain": [
              "['o', 'l', 'l', 'e', 'h']"
            ]
          },
          "metadata": {},
          "execution_count": 11
        }
      ]
    },
    {
      "cell_type": "code",
      "source": [
        "# 2. Fibonacci numbers\n",
        "# The Fibonacci numbers, commonly denoted F(n) from a sequences,\n",
        "#  such each number is the sim of the two preceding ones, starting from 0 and 1"
      ],
      "metadata": {
        "id": "xW586mhYKpjb"
      },
      "execution_count": null,
      "outputs": []
    },
    {
      "cell_type": "code",
      "source": [
        "def fib_1(n):\n",
        "  if n < 2:\n",
        "    return n\n",
        "  return fib_1(n-1) + fib_1(n-2)"
      ],
      "metadata": {
        "id": "VNfz3YezLF4f"
      },
      "execution_count": 12,
      "outputs": []
    },
    {
      "cell_type": "code",
      "source": [
        "fib_1(4)"
      ],
      "metadata": {
        "colab": {
          "base_uri": "https://localhost:8080/"
        },
        "id": "1mFxsGQELsIb",
        "outputId": "5be29625-aefb-4f40-bb26-7e6e53fe0bd2"
      },
      "execution_count": 13,
      "outputs": [
        {
          "output_type": "execute_result",
          "data": {
            "text/plain": [
              "3"
            ]
          },
          "metadata": {},
          "execution_count": 13
        }
      ]
    },
    {
      "cell_type": "code",
      "source": [
        "def fib_iterative(n):\n",
        "  if n< 2:\n",
        "    return n\n",
        "  f0 = 0\n",
        "  f1= 1\n",
        "  f = 0\n",
        "\n",
        "  for i in range(2, n+1):\n",
        "    f = f0 +f1\n",
        "    f0 = f1\n",
        "    f1= f\n",
        "  return f\n",
        ""
      ],
      "metadata": {
        "id": "c_rPOXafLy-T"
      },
      "execution_count": 14,
      "outputs": []
    },
    {
      "cell_type": "code",
      "source": [
        "fib_iterative(4)"
      ],
      "metadata": {
        "colab": {
          "base_uri": "https://localhost:8080/"
        },
        "id": "LP4KBYRZMZQp",
        "outputId": "cf37ab19-fc94-48f2-e1d8-8c367a31ec5b"
      },
      "execution_count": 15,
      "outputs": [
        {
          "output_type": "execute_result",
          "data": {
            "text/plain": [
              "3"
            ]
          },
          "metadata": {},
          "execution_count": 15
        }
      ]
    },
    {
      "cell_type": "code",
      "source": [
        "# Bottom_Up Approach using Tabulation\n",
        "\n",
        "def fib_tab(n):\n",
        "  if n < 2:\n",
        "    return n\n",
        "  tabular = [0] * (n+1)\n",
        "  tabular[0] = 0\n",
        "  tabular[1] = 1\n",
        "\n",
        "  for i in range(2, n+1):\n",
        "    tabular[i]= tabular[i-1] + tabular[i-2]\n",
        "\n",
        "  return tabular[n]"
      ],
      "metadata": {
        "id": "4HWNAkq1MdTa"
      },
      "execution_count": 19,
      "outputs": []
    },
    {
      "cell_type": "code",
      "source": [
        "fib_tab(5)"
      ],
      "metadata": {
        "colab": {
          "base_uri": "https://localhost:8080/"
        },
        "id": "iAx59yWWMdiI",
        "outputId": "99d9ec14-f138-425f-f606-824f70ab8ae6"
      },
      "execution_count": 20,
      "outputs": [
        {
          "output_type": "execute_result",
          "data": {
            "text/plain": [
              "5"
            ]
          },
          "metadata": {},
          "execution_count": 20
        }
      ]
    },
    {
      "cell_type": "code",
      "source": [
        "# Top_Down Dynamic Programming using Memorization\n",
        "\n",
        "def fib_mem(n):\n",
        "  mem = {0: 0, 1:1}\n",
        "  if n in mem:\n",
        "    return mem[n]\n",
        "  mem[n] = fib_mem(n-1) + fib_mem(n-2)\n",
        "  return mem[n]"
      ],
      "metadata": {
        "id": "tvTHr_HUMdlo"
      },
      "execution_count": 21,
      "outputs": []
    },
    {
      "cell_type": "code",
      "source": [
        "fib_mem(5)"
      ],
      "metadata": {
        "colab": {
          "base_uri": "https://localhost:8080/"
        },
        "id": "nlo2ohSbMdox",
        "outputId": "7156203c-d780-4954-f794-01e81669cf0e"
      },
      "execution_count": 22,
      "outputs": [
        {
          "output_type": "execute_result",
          "data": {
            "text/plain": [
              "5"
            ]
          },
          "metadata": {},
          "execution_count": 22
        }
      ]
    },
    {
      "cell_type": "code",
      "source": [
        "# 3. Flatten nested list\n",
        "\n",
        "def flaten_list(nested_list):\n",
        "  result = []\n",
        "  for elem in nested_list:\n",
        "    # if type(elem) == List:\n",
        "    if isinstance(elem, list):\n",
        "      result.extend(flaten_list(elem))\n",
        "    else:\n",
        "      result.append(elem)\n",
        "\n",
        "  return result\n"
      ],
      "metadata": {
        "id": "UyvLDKpDMdsY"
      },
      "execution_count": 30,
      "outputs": []
    },
    {
      "cell_type": "code",
      "source": [
        "nested_list= [1, [2,3],[4,[5,6]],7]\n",
        "print(\"Original nested list: \", nested_list)\n",
        "flattened_list= flaten_list(nested_list)\n",
        "print(\"Flattened list: \", flattened_list)"
      ],
      "metadata": {
        "colab": {
          "base_uri": "https://localhost:8080/"
        },
        "id": "Dak93V7AMdwS",
        "outputId": "c158aaaf-a6f3-4957-fd3d-4037411d4b91"
      },
      "execution_count": 33,
      "outputs": [
        {
          "output_type": "stream",
          "name": "stdout",
          "text": [
            "Original nested list:  [1, [2, 3], [4, [5, 6]], 7]\n",
            "Flattened list:  [1, 2, 3, 4, 5, 6, 7]\n"
          ]
        }
      ]
    },
    {
      "cell_type": "code",
      "source": [
        "# 4. Pascal's Triangle"
      ],
      "metadata": {
        "id": "B1o65etEWbZ4"
      },
      "execution_count": null,
      "outputs": []
    },
    {
      "cell_type": "code",
      "source": [
        "for i in range(5):\n",
        "    row = [0 for x in range(i+1)]\n",
        "    print(row)"
      ],
      "metadata": {
        "colab": {
          "base_uri": "https://localhost:8080/"
        },
        "id": "LS75Uu1mZxO1",
        "outputId": "a00c31a8-1ea8-4270-b33d-eaed545e9700"
      },
      "execution_count": 34,
      "outputs": [
        {
          "output_type": "stream",
          "name": "stdout",
          "text": [
            "[0]\n",
            "[0, 0]\n",
            "[0, 0, 0]\n",
            "[0, 0, 0, 0]\n",
            "[0, 0, 0, 0, 0]\n"
          ]
        }
      ]
    },
    {
      "cell_type": "code",
      "source": [
        "for i in range(5):\n",
        "    row = [0 for x in range(i+1)]\n",
        "    row[0], row[-1]=1,1\n",
        "    print(row)"
      ],
      "metadata": {
        "colab": {
          "base_uri": "https://localhost:8080/"
        },
        "id": "XoU87_4lZ2t8",
        "outputId": "b70689fe-a789-4a1b-c739-a8c95e2a0c27"
      },
      "execution_count": 36,
      "outputs": [
        {
          "output_type": "stream",
          "name": "stdout",
          "text": [
            "[1]\n",
            "[1, 1]\n",
            "[1, 0, 1]\n",
            "[1, 0, 0, 1]\n",
            "[1, 0, 0, 0, 1]\n"
          ]
        }
      ]
    },
    {
      "cell_type": "code",
      "source": [
        "def pascals(numRows):\n",
        "\n",
        "  result = []\n",
        "  for i in range(5):\n",
        "    row = [0 for x in range(i+1)]\n",
        "    row[0], row[-1] = 1,1\n",
        "\n",
        "    for j in range(1, len(row)-1):\n",
        "      row[j] = result[i-1][j-1] + result[i-1][j]\n",
        "    result.append(row)\n",
        "\n",
        "  return result\n",
        "\n",
        "\"\"\"\n",
        "1\n",
        "1 1\n",
        "1 2 1\n",
        "1 3 3 1\n",
        "1 4 6 4 1\n",
        "\"\"\""
      ],
      "metadata": {
        "colab": {
          "base_uri": "https://localhost:8080/",
          "height": 35
        },
        "id": "eYLUuNmZXfGZ",
        "outputId": "649b9de4-e2ca-48b4-e094-c8df780c84aa"
      },
      "execution_count": 38,
      "outputs": [
        {
          "output_type": "execute_result",
          "data": {
            "text/plain": [
              "'\\n1\\n1 1\\n1 2 1\\n1 3 3 1\\n1 4 6 4 1\\n'"
            ],
            "application/vnd.google.colaboratory.intrinsic+json": {
              "type": "string"
            }
          },
          "metadata": {},
          "execution_count": 38
        }
      ]
    },
    {
      "cell_type": "code",
      "source": [
        "pascals(5)"
      ],
      "metadata": {
        "colab": {
          "base_uri": "https://localhost:8080/"
        },
        "id": "qnuiDg_IbAqc",
        "outputId": "f6a5de63-24b0-49d5-d0f7-8d75d614c2a6"
      },
      "execution_count": 39,
      "outputs": [
        {
          "output_type": "execute_result",
          "data": {
            "text/plain": [
              "[[1], [1, 1], [1, 2, 1], [1, 3, 3, 1], [1, 4, 6, 4, 1]]"
            ]
          },
          "metadata": {},
          "execution_count": 39
        }
      ]
    },
    {
      "cell_type": "code",
      "source": [
        "# 5. Coin change"
      ],
      "metadata": {
        "id": "lO5bZksWb7su"
      },
      "execution_count": null,
      "outputs": []
    },
    {
      "cell_type": "code",
      "source": [
        "def coinChange(coins, amount):\n",
        "  dp = [float('inf')] * (amount +1)\n",
        "  dp[0] = 0\n",
        "\n",
        "  for coin in coins:\n",
        "    for x in range(coin, amount+1):\n",
        "      dp[x] = min(dp[x], dp[x - coin] + 1)\n",
        "\n",
        "  return dp[amount]\n",
        "\n",
        "\n"
      ],
      "metadata": {
        "id": "wkKiA4abb7pO"
      },
      "execution_count": 44,
      "outputs": []
    },
    {
      "cell_type": "code",
      "source": [
        "coins = [1,2,5]\n",
        "amount = 11\n",
        "coinChange(coins,amount)"
      ],
      "metadata": {
        "colab": {
          "base_uri": "https://localhost:8080/"
        },
        "id": "qrnU49Dpb7mV",
        "outputId": "ff61fe3f-6e5f-4386-b742-63eb5096119e"
      },
      "execution_count": 45,
      "outputs": [
        {
          "output_type": "execute_result",
          "data": {
            "text/plain": [
              "3"
            ]
          },
          "metadata": {},
          "execution_count": 45
        }
      ]
    },
    {
      "cell_type": "code",
      "source": [
        "# 6. Singly Linked List\n",
        "\n",
        "class Node:\n",
        "  def __init__(self, data):\n",
        "    self.data = data\n",
        "    self.next = None\n",
        "\n",
        "class SlinkedList:\n",
        "  def __init__(self):\n",
        "    self.head = None\n",
        "\n",
        "  def append(self,data):\n",
        "    new_node = Node(data)\n",
        "    if not self.head:\n",
        "      self.head=new_node\n",
        "      return\n",
        "    last_node = self.head\n",
        "    while last_node.next:\n",
        "      last_node = last_node.next\n",
        "    last_node.next = new_node\n",
        "\n",
        "  def display(self):\n",
        "    current = self.head\n",
        "    while current:\n",
        "      print(current.data, end=\" ->\")\n",
        "      current = current.next\n",
        "    print(\"None\")\n"
      ],
      "metadata": {
        "id": "RsC2Kurcb7i_"
      },
      "execution_count": 52,
      "outputs": []
    },
    {
      "cell_type": "code",
      "source": [
        "linked_list= SlinkedList()\n",
        "linked_list.append(1)\n",
        "linked_list.append(2)\n",
        "linked_list.append(3)\n",
        "linked_list.display()"
      ],
      "metadata": {
        "colab": {
          "base_uri": "https://localhost:8080/"
        },
        "id": "nSxgLfD3b7fG",
        "outputId": "407a3bf0-5b50-4a2b-a839-6acae44bb73e"
      },
      "execution_count": 54,
      "outputs": [
        {
          "output_type": "stream",
          "name": "stdout",
          "text": [
            "1 ->2 ->3 ->None\n"
          ]
        }
      ]
    },
    {
      "cell_type": "code",
      "source": [
        "# 6. Duubly Linked List\n",
        "\n",
        "class Node:\n",
        "  def __init__(self, data):\n",
        "    self.data = data\n",
        "    self.prev = None\n",
        "    self.next = None\n",
        "\n",
        "class DoublyLinkedList:\n",
        "  def __init__(self):\n",
        "    self.head = None\n",
        "\n",
        "  def append(self,data):\n",
        "    new_node = Node(data)\n",
        "    if not self.head:\n",
        "      self.head=new_node\n",
        "    else:\n",
        "      current = self.head\n",
        "\n",
        "      while current.next:\n",
        "        current = current.next\n",
        "      current.next = new_node\n",
        "      new_node.prev = current\n",
        "\n",
        "  def display_forward(self):\n",
        "    current = self.head\n",
        "    while current:\n",
        "      print(current.data, end=\" <->\")\n",
        "      current = current.next\n",
        "    print(\"None\")\n",
        "\n",
        "  def display_backward(self):\n",
        "    current = self.head\n",
        "    while current.next:\n",
        "      current= current.next\n",
        "    while current:\n",
        "      print(current.data, end=\" <->\")\n",
        "      current = current.prev\n",
        "    print(\"None\")\n"
      ],
      "metadata": {
        "id": "9sMIczlGb7b1"
      },
      "execution_count": 57,
      "outputs": []
    },
    {
      "cell_type": "code",
      "source": [
        "linked_list= DoublyLinkedList()\n",
        "linked_list.append(1)\n",
        "linked_list.append(2)\n",
        "linked_list.append(3)\n",
        "print(\"Forward:\")\n",
        "linked_list.display_forward()\n",
        "print(\"\\nBackward: \")\n",
        "linked_list.display_backward()"
      ],
      "metadata": {
        "colab": {
          "base_uri": "https://localhost:8080/"
        },
        "id": "2X2vF5rQb7YN",
        "outputId": "2de4f561-3d0c-4eae-ed08-6c5a3f37e836"
      },
      "execution_count": 59,
      "outputs": [
        {
          "output_type": "stream",
          "name": "stdout",
          "text": [
            "Forward:\n",
            "1 <->2 <->3 <->None\n",
            "\n",
            "Backward: \n",
            "3 <->2 <->1 <->None\n"
          ]
        }
      ]
    },
    {
      "cell_type": "code",
      "source": [
        "# 7. Reverse Linked List\n",
        "# Given the head of a singly linked list, reverse the list , and return the reversed list.\n",
        "\n",
        "def reverse_linked_list(linked_list):\n",
        "  prev = None\n",
        "  current = linked_list.head\n",
        "  while current:\n",
        "    next_node = current.next\n",
        "    current.next = prev\n",
        "    prev = current\n",
        "    current = next_node\n",
        "  linked_list.head = prev"
      ],
      "metadata": {
        "id": "8sZBUICUb7Qd"
      },
      "execution_count": 64,
      "outputs": []
    },
    {
      "cell_type": "code",
      "source": [
        "linked_list= SlinkedList()\n",
        "linked_list.append(1)\n",
        "linked_list.append(2)\n",
        "linked_list.append(3)\n",
        "linked_list.append(4)\n",
        "linked_list.append(5)\n",
        "print(\"Original Linked List: \")\n",
        "linked_list.display()\n",
        "\n",
        "reverse_linked_list(linked_list)\n",
        "print(\"\\nReversed Linked List:\")\n",
        "linked_list.display()"
      ],
      "metadata": {
        "colab": {
          "base_uri": "https://localhost:8080/"
        },
        "id": "cPG83VCxb7AG",
        "outputId": "d49a673d-3e3f-4e44-b7f4-360c94f5cd14"
      },
      "execution_count": 65,
      "outputs": [
        {
          "output_type": "stream",
          "name": "stdout",
          "text": [
            "Original Linked List: \n",
            "1 ->2 ->3 ->4 ->5 ->None\n",
            "\n",
            "Reversed Linked List:\n",
            "5 ->4 ->3 ->2 ->1 ->None\n"
          ]
        }
      ]
    },
    {
      "cell_type": "code",
      "source": [
        "# 8. Remove Linked List  linked list always using while loop\n",
        "class ListNode:\n",
        "  def __init__(self, val = 0, next= None):\n",
        "    self.val = val\n",
        "    self.next = next\n",
        "\n",
        "def reverseList(head):\n",
        "\n",
        "  prev = None\n",
        "  current = head\n",
        "\n",
        "  while current:\n",
        "    # current.next,prev,current = prev, current, current.next\n",
        "    next_node = current.next\n",
        "    current.next = prev\n",
        "    prev = current\n",
        "    current = next.next_node\n",
        "\n",
        "  return prev\n",
        "\n",
        "\n"
      ],
      "metadata": {
        "id": "Et_EeV7lC6qt"
      },
      "execution_count": 73,
      "outputs": []
    },
    {
      "cell_type": "code",
      "source": [
        "head = ListNode(1)\n",
        "head.next = ListNode(2)\n",
        "head.next.next = ListNode(3)\n",
        "head.next.next.next = ListNode(4)\n",
        "head.next.next.next.next = ListNode(5)\n",
        "\n",
        "reverseList(head)"
      ],
      "metadata": {
        "colab": {
          "base_uri": "https://localhost:8080/",
          "height": 305
        },
        "id": "AfzKazoVFxak",
        "outputId": "eee7fa5d-a83f-4eab-b115-4e914a650646"
      },
      "execution_count": 74,
      "outputs": [
        {
          "output_type": "error",
          "ename": "AttributeError",
          "evalue": "'builtin_function_or_method' object has no attribute 'next_node'",
          "traceback": [
            "\u001b[0;31m---------------------------------------------------------------------------\u001b[0m",
            "\u001b[0;31mAttributeError\u001b[0m                            Traceback (most recent call last)",
            "\u001b[0;32m<ipython-input-74-c7bc7a12c8a4>\u001b[0m in \u001b[0;36m<cell line: 7>\u001b[0;34m()\u001b[0m\n\u001b[1;32m      5\u001b[0m \u001b[0mhead\u001b[0m\u001b[0;34m.\u001b[0m\u001b[0mnext\u001b[0m\u001b[0;34m.\u001b[0m\u001b[0mnext\u001b[0m\u001b[0;34m.\u001b[0m\u001b[0mnext\u001b[0m\u001b[0;34m.\u001b[0m\u001b[0mnext\u001b[0m \u001b[0;34m=\u001b[0m \u001b[0mListNode\u001b[0m\u001b[0;34m(\u001b[0m\u001b[0;36m5\u001b[0m\u001b[0;34m)\u001b[0m\u001b[0;34m\u001b[0m\u001b[0;34m\u001b[0m\u001b[0m\n\u001b[1;32m      6\u001b[0m \u001b[0;34m\u001b[0m\u001b[0m\n\u001b[0;32m----> 7\u001b[0;31m \u001b[0mreverseList\u001b[0m\u001b[0;34m(\u001b[0m\u001b[0mhead\u001b[0m\u001b[0;34m)\u001b[0m\u001b[0;34m\u001b[0m\u001b[0;34m\u001b[0m\u001b[0m\n\u001b[0m",
            "\u001b[0;32m<ipython-input-73-ed6413ec9665>\u001b[0m in \u001b[0;36mreverseList\u001b[0;34m(head)\u001b[0m\n\u001b[1;32m     15\u001b[0m     \u001b[0mcurrent\u001b[0m\u001b[0;34m.\u001b[0m\u001b[0mnext\u001b[0m \u001b[0;34m=\u001b[0m \u001b[0mprev\u001b[0m\u001b[0;34m\u001b[0m\u001b[0;34m\u001b[0m\u001b[0m\n\u001b[1;32m     16\u001b[0m     \u001b[0mprev\u001b[0m \u001b[0;34m=\u001b[0m \u001b[0mcurrent\u001b[0m\u001b[0;34m\u001b[0m\u001b[0;34m\u001b[0m\u001b[0m\n\u001b[0;32m---> 17\u001b[0;31m     \u001b[0mcurrent\u001b[0m \u001b[0;34m=\u001b[0m \u001b[0mnext\u001b[0m\u001b[0;34m.\u001b[0m\u001b[0mnext_node\u001b[0m\u001b[0;34m\u001b[0m\u001b[0;34m\u001b[0m\u001b[0m\n\u001b[0m\u001b[1;32m     18\u001b[0m \u001b[0;34m\u001b[0m\u001b[0m\n\u001b[1;32m     19\u001b[0m   \u001b[0;32mreturn\u001b[0m \u001b[0mprev\u001b[0m\u001b[0;34m\u001b[0m\u001b[0;34m\u001b[0m\u001b[0m\n",
            "\u001b[0;31mAttributeError\u001b[0m: 'builtin_function_or_method' object has no attribute 'next_node'"
          ]
        }
      ]
    }
  ]
}